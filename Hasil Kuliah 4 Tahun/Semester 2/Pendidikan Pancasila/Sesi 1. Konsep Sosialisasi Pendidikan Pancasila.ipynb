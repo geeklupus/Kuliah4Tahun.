{
 "cells": [
  {
   "cell_type": "markdown",
   "metadata": {},
   "source": [
    "Pendidikan Pancasila\n",
    "\n",
    "Sesi 1\n",
    "\n",
    "Lukas Febrian Laufra\n",
    "\n",
    "20220040076\n",
    "\n",
    "TI22F\n",
    "\n",
    "----------------------------------------------------------------------------------------------------------------\n",
    "\n",
    "Soal\n",
    "1. Jelaskan bagaimana keterkaitan antara konsep dan Urgensi\n",
    "Pendidikan Pancasila dalam menghadapi disintegrasi\n",
    "bangsa dewasa ini serta berikan solusi dalam memperkuat\n",
    "keutuhan bangsa dan bernegara !\n",
    "\n",
    "Jawaban\n",
    "1. Berikut ini adalah caranya memperkuat keutuhan bangsa\n",
    "dan bernegara:\n",
    "- Membentangkan persatuan dan kesatuan bangsa.\n",
    "- Mempunyai Toleransi yang sangat tinggi.\n",
    "- Bersedia untuk berintregrasi dengan semua golongan\n",
    "masyarakat.\n",
    "- Saling bahu membahu semua warga Indonesia\n",
    "- Tidak melakukan segregasi kepada siapapun.\n",
    "- Merangkul masyarakat.\n",
    "- Cinta Tanah Air Indonesia.\n",
    "- Disiplin menjadi warga Indonesia."
   ]
  }
 ],
 "metadata": {
  "language_info": {
   "name": "python"
  }
 },
 "nbformat": 4,
 "nbformat_minor": 2
}
