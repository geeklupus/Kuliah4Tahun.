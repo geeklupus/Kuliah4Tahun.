{
 "cells": [
  {
   "cell_type": "markdown",
   "metadata": {},
   "source": [
    "Sesi 13\n",
    "\n",
    "DINAMIKA, ESENSI, DAN KONSEP PANCASILA SEBAGAI SISTEM ETIKA\n",
    "\n",
    "20220040076\n",
    "\n",
    "Lukas Febrian Laufra\n",
    "\n",
    "TI22F\n",
    "\n",
    "_____________________________________________________________________________________________________________\n",
    "\n",
    "Soal\n",
    "\n",
    "1. Jelaskan mengenai Etika Pancasila beserta nilai-nilainya?\n",
    "\n",
    "2. Menjelaskan dinamika Pancasila sebagai sistem etika?\n",
    "\n",
    "3. Menjelaskan esensi Pancasila sebagai sistem etika?\n",
    "\n",
    "____________________________________________________________________________________________________________\n",
    "\n",
    "Jawaban\n",
    "\n",
    "1. Etika Pancasila adalah seperangkat nilai moral yang didasarkan pada lima prinsip dasar\n",
    "yang terdapat dalam dasar negara Indonesia, yaitu Pancasila. Etika Pancasila mencakup\n",
    "prinsip-prinsip seperti keadilan, kesetaraan, kemanusiaan, kebenaran, dan kesederajatan.\n",
    "Etika Pancasila mengajarkan kita untuk hidup secara etis dan bertanggung jawab dalam\n",
    "tindakan kita, baik secara pribadi maupun dalam konteks masyarakat. Makna dari Etika\n",
    "Pancasila adalah bahwa kita harus memahami dan menghargai prinsip-prinsip Pancasila\n",
    "dalam tindakan dan perilaku kita sehari-hari. Sebagai individu, kita harus selalu berusaha\n",
    "untuk bertindak sesuai dengan nilai-nilai tersebut, seperti memberikan perlakuan yang adil\n",
    "pada sesama, menjunjung tinggi martabat manusia, dan selalu mencari kebenaran dalam\n",
    "segala hal.\n",
    "\n",
    "2. Dinamika Pancasila sebagai sistem etika meliputi perubahan dan perkembangan nilai-nilai\n",
    "moral yang terkandung dalam Pancasila sesuai dengan perkembangan zaman dan\n",
    "kebutuhan masyarakat. Pancasila sebagai sistem etika juga harus mampu\n",
    "mengakomodasi perbedaan dan keberagaman dalam masyarakat. Hal ini dapat dilakukan\n",
    "dengan cara memperkuat nilai-nilai persatuan, kerakyatan, dan keadilan dalam Pancasila.\n",
    "\n",
    "3. Esensi Pancasila sebagai sistem etika adalah sebagai nilai luhur dalam beretika yang\n",
    "dijabarkan dari sila-sila Pancasila untuk mengatur perilaku kehidupan bermasyarakat,\n",
    "berbangsa, dan bernegara di Indonesia. Oleh karena itu, dalam etika Pancasila terkandung\n",
    "nilai-nilai ketuhanan, kemanusiaan, persatuan, kerakyatan, dan keadilan. Kelima nilai\n",
    "tersebut membentuk perilaku manusia Indonesia dalam semua aspek kehidupannya.\n",
    "Dengan diterapkannya Pancasila sebagai sistem etika, maka akan menjadikan masyarakat\n",
    "Indonesia memiliki moral dan tingkah laku yang baik."
   ]
  }
 ],
 "metadata": {
  "language_info": {
   "name": "python"
  }
 },
 "nbformat": 4,
 "nbformat_minor": 2
}
