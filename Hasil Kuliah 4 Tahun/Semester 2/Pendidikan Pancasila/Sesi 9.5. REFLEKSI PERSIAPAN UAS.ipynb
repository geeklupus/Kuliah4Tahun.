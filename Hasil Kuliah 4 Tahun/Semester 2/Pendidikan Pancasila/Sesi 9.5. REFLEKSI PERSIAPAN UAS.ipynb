{
 "cells": [
  {
   "cell_type": "markdown",
   "metadata": {},
   "source": [
    "Pendidikan Pancasila\n",
    "\n",
    "Sesi 15\n",
    "\n",
    "Lukas Febrian Laufra\n",
    "\n",
    "20220040076\n",
    "\n",
    "TI22F\n",
    "\n",
    "----------------------------------------------------------------------------------------------------------------\n",
    "\n",
    "Soal\n",
    "\n",
    "1. Jelaskan Bagaimana Keterkaitan antara Konsep dan Urgensi Pendidikan Pancasila dalam menghadapi disintegrasi bangsa dewasa ini serta memberikan solusi dalam keutuhan bangsa dan negara!\n",
    "\n",
    "2. Jelaskan secara rinci, sejarah tersusun nya Dasar Negara Pancasila, sejak awal hingga menjadi 5 sila yang utuh, serta sebutkan pula para tokoh nasional maupun tokoh agama yang berjasa dalam penyusunan Pancasila..!\n",
    "\n",
    "______________________________________________________________________________________________________________\n",
    "\n",
    "Jawaban\n",
    "\n",
    "1. Pendidikan Pancasila dapat menangkal segala bentuk usaha yang mengarah kepada disintegrasi bangsa. Urgensi dari pendidikan Pancasila semakin tinggi karena kondisi bangsa Indonesia saat ini banyak bermunculan perilaku intoleran dan radikal yang menyebabkan disintegrasi bangsa.\n",
    "\n",
    "2. Pancasila ditetapkan sebagai dasar negara pada 18 Agustus 1945 oleh Panitia Persiapan Kemerdekaan Indonesia (PPKI) pada sidang pengesahan UUD 1945. Dalam sidang tersebut, PPKI mengesahkan UUD 1945 yang di mana terdapat rumusan Pancasila sebagai dasar negara pada alinea keempat pembukaan UUD 1945.\n"
   ]
  }
 ],
 "metadata": {
  "language_info": {
   "name": "python"
  }
 },
 "nbformat": 4,
 "nbformat_minor": 2
}
