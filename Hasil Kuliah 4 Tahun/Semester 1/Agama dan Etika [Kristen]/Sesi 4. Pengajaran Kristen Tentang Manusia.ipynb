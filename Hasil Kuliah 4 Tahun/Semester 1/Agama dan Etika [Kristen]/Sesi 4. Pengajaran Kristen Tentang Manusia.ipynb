{
 "cells": [
  {
   "cell_type": "markdown",
   "metadata": {},
   "source": [
    "Agama Etika Kristen Protestan\n",
    "\n",
    "Sesi 4\n",
    "\n",
    "Lukas Febrian\n",
    "\n",
    "TI22F\n",
    "\n",
    "20220040076\n",
    "\n",
    "-----------------------------------------------------------------------------------------------------------\n",
    "Soal\n",
    "\n",
    "1. Catatan Khotbah\n",
    "- Siapakah Pengkotbah?\n",
    "- Judul?\n",
    "- Ayat intinya/Kotbah?\n",
    "- Kesimpulan?\n",
    "\n",
    "Jawaban\n",
    "\n",
    "1. Kotbah Catatan\n",
    "- Sapakah Pendeta Kotbah : pdt. Kriswanto\n",
    "- Judul : Merasakan kasih Allah/Kekudusan dan kasih persaudaraan\n",
    "- Ayat intinya/Kotbah : 1 Petrus 1:24\n",
    "- Kesimpulan : Firman Tuhan katakan bahwa semua yang hidup adalah seperti rumput, artinya hidup didunia tidak akan bertahan lama, bahkan dikatakan, hidup didunia ini begitu singkat."
   ]
  }
 ],
 "metadata": {
  "language_info": {
   "name": "python"
  }
 },
 "nbformat": 4,
 "nbformat_minor": 2
}
