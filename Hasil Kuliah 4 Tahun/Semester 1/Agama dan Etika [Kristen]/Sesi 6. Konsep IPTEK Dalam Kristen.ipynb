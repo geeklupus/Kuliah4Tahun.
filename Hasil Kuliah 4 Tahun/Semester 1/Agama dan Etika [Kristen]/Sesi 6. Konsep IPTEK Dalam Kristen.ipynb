{
 "cells": [
  {
   "cell_type": "markdown",
   "metadata": {},
   "source": [
    "Agama Etika Kristen Protestan\n",
    "\n",
    "Sesi 6\n",
    "\n",
    "Lukas Febrian\n",
    "\n",
    "TI22F\n",
    "\n",
    "20220040076\n",
    "\n",
    "-----------------------------------------------------------------------------------------------------------\n",
    "Soal\n",
    "\n",
    "1. Catatan Khotbah\n",
    "- Siapakah Pengkotbah?\n",
    "- Judul?\n",
    "- Ayat intinya/Kotbah?\n",
    "- Kesimpulan?\n",
    "\n",
    "Jawaban\n",
    "\n",
    "1. Kotbah Catatan\n",
    "- Sapakah Pendeta Kotbah : pdt. Yonathan Laufra\n",
    "- Judul : Dialah Penguasa Alam Semesta\n",
    "- Ayat intinya/Kotbah : Kisah Para Rasul 5:29-33\n",
    "\n",
    "5:29 Tetapi Petrus dan rasul-rasul itu menjawab, katanya: \"Kita harus lebih taat kepada Allah dari pada kepada manusia 1 .\n",
    "\n",
    "5:30 Allah nenek moyang kita telah membangkitkan Yesus, yang kamu gantungkan pada kayu salib dan kamu bunuh.\n",
    "\n",
    "5:31 Dialah yang telah ditinggikan oleh Allah sendiri dengan tangan kanan-Nya m  menjadi Pemimpin dan Juruselamat, n  supaya Israel dapat bertobat dan menerima pengampunan dosa.\n",
    "\n",
    "5:32 Dan kami adalah saksi dari segala sesuatu itu, kami dan Roh Kudus, yang dikaruniakan Allah kepada semua orang yang mentaati Dia 2 .\"\n",
    "\n",
    "- Kesimpulan : Kita hanya taat kepada Tuhan Yesus daripada human/manusia, karena yang memberikan kita jalan/jalur kebenaran yang menuju sorga hanyalah Allah."
   ]
  }
 ],
 "metadata": {
  "language_info": {
   "name": "python"
  }
 },
 "nbformat": 4,
 "nbformat_minor": 2
}
