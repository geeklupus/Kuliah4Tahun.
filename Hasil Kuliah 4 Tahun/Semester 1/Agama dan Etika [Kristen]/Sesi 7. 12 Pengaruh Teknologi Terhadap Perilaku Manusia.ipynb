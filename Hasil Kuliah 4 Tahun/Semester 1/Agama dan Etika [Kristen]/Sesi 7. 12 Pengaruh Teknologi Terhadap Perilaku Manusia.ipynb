{
 "cells": [
  {
   "cell_type": "markdown",
   "metadata": {},
   "source": [
    "Agama Etika Kristen Protestan\n",
    "\n",
    "Sesi 7\n",
    "\n",
    "Lukas Febrian\n",
    "\n",
    "TI22F\n",
    "\n",
    "20220040076\n",
    "\n",
    "Senin, 14 November 2022\n",
    "\n",
    "-----------------------------------------------------------------------------------------------------------\n",
    "Soal\n",
    "\n",
    "1. Catatan Khotbah\n",
    "- Siapakah Pengkotbah?\n",
    "- Judul?\n",
    "- Ayat intinya/Kotbah?\n",
    "- Kesimpulan?\n",
    "\n",
    "Jawaban\n",
    "\n",
    "1. Kotbah Catatan\n",
    "- Sapakah Pendeta Kotbah : pdt. Kriswanto\n",
    "- Judul : Kebenaran dan Saleh.\n",
    "- Ayat intinya/Kotbah : Lukas 2:25-26\n",
    "\n",
    "2:25 Adalah di Yerusalem seorang bernama Simeon. Ia seorang yang benar dan saleh 1  k  yang menantikan penghiburan 2  bagi Israel. l  Roh Kudus ada di atasnya,\n",
    "\n",
    "2:26 dan kepadanya telah dinyatakan oleh Roh Kudus, bahwa ia tidak akan mati sebelum ia melihat Mesias, yaitu Dia yang diurapi Tuhan.\n",
    "\n",
    "- Kesimpulan : Didalam ayat ini kami menjelaskan hidup harus didalam kebenaran dan saleh, agar kita tidak melakukan perbuatan jahat atau yang tidak baik, atau ke jalan yang salah, dan selalu mengikuti ajaran Kristus/Yesus didalam Alkitab."
   ]
  }
 ],
 "metadata": {
  "language_info": {
   "name": "python"
  }
 },
 "nbformat": 4,
 "nbformat_minor": 2
}
