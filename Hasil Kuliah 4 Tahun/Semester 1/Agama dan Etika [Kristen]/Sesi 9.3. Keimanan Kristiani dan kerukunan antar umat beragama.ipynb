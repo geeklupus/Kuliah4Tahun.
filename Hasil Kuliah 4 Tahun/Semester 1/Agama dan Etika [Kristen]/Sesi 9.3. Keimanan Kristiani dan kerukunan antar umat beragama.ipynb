{
 "cells": [
  {
   "cell_type": "markdown",
   "metadata": {},
   "source": [
    "Agama Etika Kristen Protestan\n",
    "\n",
    "Sesi 13\n",
    "\n",
    "Lukas Febrian\n",
    "\n",
    "TI22F\n",
    "\n",
    "20220040076\n",
    "\n",
    "Senin, 18 Desember 2022\n",
    "\n",
    "-----------------------------------------------------------------------------------------------------------\n",
    "Soal\n",
    "\n",
    "1. Catatan Khotbah\n",
    "- Siapakah Pengkotbah?\n",
    "- Judul?\n",
    "- Ayat intinya/Kotbah?\n",
    "- Kesimpulan?\n",
    "\n",
    "Jawaban\n",
    "\n",
    "1. Kotbah Catatan\n",
    "- Sapakah Pendeta Kotbah : pdt. Kriswanto\n",
    "- Judul : Kasih.\n",
    "- Ayat intinya/Kotbah : Yohanes 3:16\n",
    "\n",
    "3:16 Karena begitu besar kasih Allah akan dunia ini, sehingga Ia mengaruniakan anakNya yang Tunggal, bahwa siapa saja yang percaya kepadaNya tidak binasa melainkan beroleh hidup yang kekal.\n",
    "\n",
    "- Kesimpulan : Didalam ayat ini kami menjelaskan Janji keselamatan dan pengorbanan Tuhan Yesus Kristus untuk umatnya tercatat dengan jelas didalam Alkitab Kristen ini."
   ]
  }
 ],
 "metadata": {
  "language_info": {
   "name": "python"
  }
 },
 "nbformat": 4,
 "nbformat_minor": 2
}
