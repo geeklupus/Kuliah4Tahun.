{
 "cells": [
  {
   "cell_type": "markdown",
   "metadata": {},
   "source": [
    "Agama Etika Kristen Protestan\n",
    "\n",
    "Sesi 9\n",
    "\n",
    "Lukas Febrian\n",
    "\n",
    "TI22F\n",
    "\n",
    "20220040076\n",
    "\n",
    "Senin, 21 November 2022\n",
    "\n",
    "-----------------------------------------------------------------------------------------------------------\n",
    "Soal\n",
    "\n",
    "1. Catatan Khotbah\n",
    "- Siapakah Pengkotbah?\n",
    "- Judul?\n",
    "- Ayat intinya/Kotbah?\n",
    "- Kesimpulan?\n",
    "\n",
    "Jawaban\n",
    "\n",
    "1. Kotbah Catatan\n",
    "- Sapakah Pendeta Kotbah : PDT.YONATHAN LAUFRA.\n",
    "- Judul : MENJADI ORANG YANG BENAR DIHADAPAN TUHAN.\n",
    "- Ayat intinya/Kotbah : MAZMUR 34:20\n",
    "\n",
    "Mazmur 34:20 TB\n",
    "Kemalangan orang benar banyak, tetapi TUHAN melepaskan dia dari\n",
    "semuanya itu.\n",
    "\n",
    "- Kesimpulan :\n",
    "    - MENCARI TUHAN\n",
    "    - KITA HARUS MENGANDAL TUHAN SETIAP HARI.\n",
    "    - JANGAN LUPA BERSYUKUR."
   ]
  }
 ],
 "metadata": {
  "language_info": {
   "name": "python"
  }
 },
 "nbformat": 4,
 "nbformat_minor": 2
}
