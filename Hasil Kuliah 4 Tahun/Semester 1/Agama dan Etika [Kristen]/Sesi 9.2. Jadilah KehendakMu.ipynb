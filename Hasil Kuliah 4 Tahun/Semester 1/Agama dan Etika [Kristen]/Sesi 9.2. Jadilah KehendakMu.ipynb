{
 "cells": [
  {
   "cell_type": "markdown",
   "metadata": {},
   "source": [
    "Agama Etika Kristen Protestan\n",
    "\n",
    "Sesi 12\n",
    "\n",
    "Lukas Febrian\n",
    "\n",
    "TI22F\n",
    "\n",
    "20220040076\n",
    "\n",
    "Senin, 11 Desember 2022\n",
    "\n",
    "-----------------------------------------------------------------------------------------------------------\n",
    "Soal\n",
    "\n",
    "1. Catatan Khotbah\n",
    "- Siapakah Pengkotbah?\n",
    "- Judul?\n",
    "- Ayat intinya/Kotbah?\n",
    "- Kesimpulan?\n",
    "\n",
    "Jawaban\n",
    "\n",
    "1. Kotbah Catatan\n",
    "- Sapakah Pendeta Kotbah : Pdt. Yonathan Laufra\n",
    "- Judul : Dengan adanya harapan dan jawaban dari Allah.\n",
    "- Ayat intinya/Kotbah : Matius 1:24-25\n",
    "\n",
    "1:24 Sesudah bangun dari tidurnya, Yusuf berbuat seperti yang diperintahkan malaikat x Tuhan itu kepadanya. Ia mengambil Maria sebagai isterinya,\n",
    "\n",
    "1:25 tetapi tidak bersetubuh dengan dia sampai 1 ia melahirkan anaknya laki-laki dan Yusuf menamakan Dia Yesus.\n",
    "\n",
    "- Kesimpulan : Didalam ayat ini Yusuf melaksanakan perintah dari Allah atau Malaikat."
   ]
  }
 ],
 "metadata": {
  "language_info": {
   "name": "python"
  }
 },
 "nbformat": 4,
 "nbformat_minor": 2
}
