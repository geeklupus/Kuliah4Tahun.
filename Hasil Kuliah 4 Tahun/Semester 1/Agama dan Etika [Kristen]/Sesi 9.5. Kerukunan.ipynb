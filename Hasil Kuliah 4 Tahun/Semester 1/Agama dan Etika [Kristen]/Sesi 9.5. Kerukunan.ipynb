{
 "cells": [
  {
   "cell_type": "markdown",
   "metadata": {},
   "source": [
    "Agama Etika Kristen Protestan\n",
    "\n",
    "Sesi 15/7\n",
    "\n",
    "Lukas Febrian\n",
    "\n",
    "TI22F\n",
    "\n",
    "20220040076\n",
    "\n",
    "Senin, 1 Januari 2023\n",
    "\n",
    "-----------------------------------------------------------------------------------------------------------\n",
    "Soal\n",
    "\n",
    "1. Catatan Khotbah\n",
    "- Siapakah Pengkotbah?\n",
    "- Judul?\n",
    "- Ayat intinya/Kotbah?\n",
    "- Kesimpulan?\n",
    "\n",
    "Jawaban\n",
    "\n",
    "1. Kotbah Catatan\n",
    "- Sapakah Pendeta Kotbah : pdt. Kriswanto\n",
    "- Judul : KRISIS EKONOMI DALAM KE KRISTENAN\n",
    "- Ayat intinya/Kotbah : HABAKUK 3:17-19\n",
    "\n",
    "17. Sekalipun pohon ara tidak berbunga, pohon anggur tidak berbuah, hasil\n",
    "pohon zaitun mengecewakan, sekalipun ladang-ladang tidak menghasilkan\n",
    "bahan makanan, kambing domba terhalau dari kurungan, dan tidak ada lembu\n",
    "sapi dalam kandang,\n",
    "\n",
    "18. namun aku akan bersorak-sorak di dalam TUHAN, beria-ria di dalam Allah\n",
    "yang menyelamatkan aku.\n",
    "\n",
    "19. ALLAH Tuhanku itu kekuatanku: Ia membuat kakiku seperti kaki rusa, Ia\n",
    "membiarkan aku berjejak di bukit-bukitku.\n",
    "\n",
    "- Kesimpulan : BERSYUKURLAH KETIKA MENGALAMI PERMASALAHAN,\n",
    "KEKECEWAAN, ATAU KEGALAUAN HIDUP KARNA TUHAN SEDANG MEMBUAT ATAU\n",
    "MEMBENTUK BAGAIMANA KITA SEPERTI RUSA LINCAH, MENAWAN, BERLARI CEPAT\n",
    "DENGAN DEMIKIAN, DAN MAMPU MENGHINDARI CEKATAN PEMANGSA. TUHAN ITU\n",
    "KEKUATAN KITA. KIRA TUHAN MENOLONG KITA MELEWATI DUKACITA DENGAN\n",
    "BERSUKACITA DAN BERSYUKUR DALAM PERJALANAN/PENGHARAPAN KEPADA\n",
    "TUHAN KITA YANG HIDUP, AMIN..."
   ]
  }
 ],
 "metadata": {
  "language_info": {
   "name": "python"
  }
 },
 "nbformat": 4,
 "nbformat_minor": 2
}
