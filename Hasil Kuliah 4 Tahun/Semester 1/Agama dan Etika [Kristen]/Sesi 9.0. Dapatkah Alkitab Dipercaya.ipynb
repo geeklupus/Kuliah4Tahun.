{
 "cells": [
  {
   "cell_type": "markdown",
   "metadata": {},
   "source": [
    "Agama Etika Kristen Protestan\n",
    "\n",
    "Sesi 10\n",
    "\n",
    "Lukas Febrian\n",
    "\n",
    "TI22F\n",
    "\n",
    "20220040076\n",
    "\n",
    "Senin, 28 November 2022\n",
    "\n",
    "-----------------------------------------------------------------------------------------------------------\n",
    "Soal\n",
    "\n",
    "1. Catatan Khotbah\n",
    "- Siapakah Pengkotbah?\n",
    "- Judul?\n",
    "- Ayat intinya/Kotbah?\n",
    "- Kesimpulan?\n",
    "\n",
    "Jawaban\n",
    "\n",
    "1. Kotbah Catatan\n",
    "- Sapakah Pendeta Kotbah : pdt. Kriswanto\n",
    "- Judul : Tuhan/Allah/Yesus menyertai engkau/kita/kami.\n",
    "- Ayat intinya/Kotbah : Lukas 1:25-26\n",
    "\n",
    "1:25 \"Inilah suatu perbuatan Tuhan bagiku, dan sekarang Ia berkenan menghapuskan aibku di depan orang.\"\n",
    "\n",
    "- Kesimpulan : Moral."
   ]
  }
 ],
 "metadata": {
  "language_info": {
   "name": "python"
  }
 },
 "nbformat": 4,
 "nbformat_minor": 2
}
