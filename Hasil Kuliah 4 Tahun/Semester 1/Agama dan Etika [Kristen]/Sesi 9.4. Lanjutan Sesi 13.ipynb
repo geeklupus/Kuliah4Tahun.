{
 "cells": [
  {
   "cell_type": "markdown",
   "metadata": {},
   "source": [
    "Agama Etika Kristen Protestan\n",
    "\n",
    "Sesi 14\n",
    "\n",
    "Lukas Febrian\n",
    "\n",
    "TI22F\n",
    "\n",
    "20220040076\n",
    "\n",
    "Senin, 25 Desember 2022\n",
    "\n",
    "-----------------------------------------------------------------------------------------------------------\n",
    "Soal\n",
    "\n",
    "1. Catatan Khotbah\n",
    "- Siapakah Pengkotbah?\n",
    "- Judul?\n",
    "- Ayat intinya/Kotbah?\n",
    "- Kesimpulan?\n",
    "\n",
    "Jawaban\n",
    "\n",
    "1. Kotbah Catatan\n",
    "- Sapakah Pendeta Kotbah : Pdt. Sudirman\n",
    "- Judul : Anugrah.\n",
    "- Ayat intinya/Kotbah : Yeremia 29:11-14\n",
    "\n",
    "29:11 Sebab Aku ini mengetahui rancangan-rancangan w  apa yang ada pada-Ku mengenai kamu, demikianlah firman TUHAN, yaitu rancangan damai sejahtera dan bukan rancangan kecelakaan, untuk memberikan kepadamu hari depan yang penuh harapan.\n",
    "\n",
    "29:12 Dan apabila kamu berseru dan datang untuk berdoa kepada-Ku, maka Aku akan mendengarkan 1 kamu;\n",
    "\n",
    "29:13 apabila kamu mencari Aku, kamu akan menemukan Aku; apabila kamu menanyakan Aku dengan segenap hati,\n",
    "\n",
    "29:14 Aku akan memberi kamu menemukan Aku, demikianlah firman TUHAN, dan Aku akan memulihkan keadaanmu dan akan mengumpulkan kamu dari antara segala bangsa dan dari segala tempat ke mana kamu telah Kuceraiberaikan, demikianlah firman TUHAN, dan Aku akan mengembalikan kamu ke tempat yang dari mana Aku telah membuang kamu.\n",
    "\n",
    "- Kesimpulan : Didalam ayat ini kami menjelaskan Rancangan-Nya bagi umatnya adalah rancangan damai sejahtera."
   ]
  }
 ],
 "metadata": {
  "language_info": {
   "name": "python"
  }
 },
 "nbformat": 4,
 "nbformat_minor": 2
}
