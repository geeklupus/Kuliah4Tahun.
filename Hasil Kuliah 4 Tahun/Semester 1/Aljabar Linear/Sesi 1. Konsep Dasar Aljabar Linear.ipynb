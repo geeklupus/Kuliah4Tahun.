{
 "cells": [
  {
   "cell_type": "markdown",
   "metadata": {},
   "source": [
    "Konsep Dasar Aljabar Linear\n",
    "\n",
    "Sesi 1\n",
    "\n",
    "Lukas Febrian Laufra\n",
    "\n",
    "TI22F\n",
    "\n",
    "20220040076\n",
    "\n",
    "--------------------------------------------------------------------------------------------------------------\n",
    "\n",
    "Soal\n",
    "1. Kerjakan berkelompok ( Group Work )\n",
    "2. Buat ulasan singkat mengenai penerapan aljabar linier pada beberapa bidang\n",
    "berikut . Memilih salah satu, tidak boleh ada kesamaan antara kelompok dengan\n",
    "tema yang sama.\n",
    "Make a short review of the application of linear algebra in the following fields.\n",
    "Choose one, there should be no similarities between groups with the same theme.\n",
    "\n",
    "-------------------------------------------------------------------------------------------------------------\n",
    "\n",
    "Jawaban\n",
    "\n",
    "**Penerapan Aljabar Linier dalam Grafika Komputer**\n",
    "\n",
    "Aljabar linier memainkan peran krusial dalam grafika komputer, terutama dalam proses rendering gambar dan manipulasi objek tiga dimensi. Berikut adalah beberapa aplikasi penting dari aljabar linier dalam grafika komputer:\n",
    "\n",
    "1. **Transformasi Geometri**:\n",
    "   - **Matrix Transformations**: Aljabar linier digunakan untuk menerapkan transformasi seperti translasi, rotasi, dan skala pada objek 3D. Setiap transformasi dapat diwakili oleh matriks, dan kombinasi beberapa transformasi dilakukan dengan mengalikan matriks-matriks tersebut. Misalnya, untuk memutar objek 3D, kita menggunakan matriks rotasi yang mengubah koordinat objek sesuai dengan sudut rotasi yang diinginkan.\n",
    "   - **Homogeneous Coordinates**: Untuk menyederhanakan operasi transformasi, koordinat homogen digunakan. Ini memungkinkan penerapan transformasi linier dan translasi dalam satu matriks.\n",
    "\n",
    "2. **Pemetaan Tekstur**:\n",
    "   - **Texture Mapping**: Pada grafika komputer, pemetaan tekstur memerlukan aljabar linier untuk menghubungkan koordinat tekstur dengan koordinat objek 3D. Proses ini sering melibatkan pemetaan koordinat dalam ruang 2D (tekstur) ke koordinat dalam ruang 3D menggunakan matriks transformasi.\n",
    "\n",
    "3. **Rendering dan Pengolahan Citra**:\n",
    "   - **Lighting Models**: Model pencahayaan seperti model Phong menggunakan aljabar linier untuk menghitung intensitas cahaya pada permukaan objek. Ini melibatkan vektor normal permukaan, vektor arah cahaya, dan vektor pandang, yang semuanya diolah menggunakan operasi vektor dan matriks.\n",
    "   - **Clipping dan Viewport Transformation**: Dalam proses rendering, clipping digunakan untuk memotong bagian objek yang tidak terlihat dari pandangan kamera. Proses ini melibatkan operasi matriks untuk menentukan bagian mana dari objek yang harus digambar pada layar.\n",
    "\n",
    "4. **Animasi dan Simulasi**:\n",
    "   - **Skeleton Animation**: Untuk animasi karakter, aljabar linier digunakan dalam sistem kerangka tulang (skeleton). Matriks transformasi diterapkan pada setiap tulang untuk memposisikan dan memutar bagian-bagian karakter, yang kemudian digabungkan untuk menghasilkan gerakan karakter yang realistis.\n",
    "\n",
    "Aljabar linier memberikan dasar matematis yang kuat untuk banyak aspek grafika komputer, membantu dalam menghasilkan gambar yang realistis dan responsif serta memungkinkan interaksi yang mulus dalam lingkungan 3D. Dengan memanipulasi matriks dan vektor, grafika komputer dapat menciptakan visual yang kompleks dan dinamis dari data yang relatif sederhana."
   ]
  }
 ],
 "metadata": {
  "language_info": {
   "name": "python"
  }
 },
 "nbformat": 4,
 "nbformat_minor": 2
}
