{
 "cells": [
  {
   "cell_type": "markdown",
   "metadata": {},
   "source": [
    "Konsep Dasar Aljabar Linear\n",
    "\n",
    "Sesi 10\n",
    "\n",
    "Lukas Febrian Laufra\n",
    "\n",
    "TI22F\n",
    "\n",
    "20220040076\n",
    "\n",
    "--------------------------------------------------------------------------------------------------------------\n",
    "Soal"
   ]
  },
  {
   "cell_type": "code",
   "execution_count": 1,
   "metadata": {},
   "outputs": [
    {
     "data": {
      "image/png": "[encoded data removed]",
      "text/plain": [
       "<IPython.core.display.Image object>"
      ]
     },
     "metadata": {},
     "output_type": "display_data"
    }
   ],
   "source": [
    "from IPython.display import Image, display\n",
    "\n",
    "# Ganti path dengan path gambar Anda\n",
    "img_path = 'Sesi 9.1. Dot Product.png'\n",
    "display(Image(filename=img_path))"
   ]
  },
  {
   "cell_type": "markdown",
   "metadata": {},
   "source": [
    "Jawaban\n",
    "\n",
    "1. \n",
    "Untuk menghitung $u \\cdot w$, kita dapat menggunakan rumus:\n",
    "$u \\cdot w = u_x \\cdot w_x + u_y \\cdot w_y$\n",
    "Di mana $u_x$ dan $u_y$ adalah komponen-komponen dari vektor $u$, dan $w_x$ dan $w_y$ adalah komponen-komponen dari vektor $w$. Dengan mengganti nilai-nilai yang telah kita hitung, kita dapatkan:\n",
    "$u \\cdot w = (3)(7) + (4)(1) = 21 + 4 = 25$\n",
    "\n",
    "2. \n",
    "Untuk menentukan nilai x, kita dapat menggunakan fakta bahwa dua vektor saling tegak lurus jika dan hanya jika hasil perkalian dot dari kedua vektor tersebut adalah nol. Dengan demikian, kita dapat menulis persamaan:\n",
    "$u \\cdot v = 0$\n",
    "Di mana $u \\cdot v$ adalah hasil perkalian dot dari vektor $u$ dan vektor $v$. Dengan mengganti nilai-nilai yang telah kita hitung, kita dapatkan:\n",
    "$u \\cdot v = (-1)(4) + (x)(2) + (2)(-1) = -4 + 2x - 2 = 2x - 6$\n",
    "Karena $u \\cdot v = 0$, maka kita dapat menulis persamaan:\n",
    "$2x - 6 = 0$\n",
    "Dengan menyelesaikan persamaan ini, kita dapat menentukan nilai x.\n",
    "\n",
    "3. \n",
    "Untuk menentukan besar sudut antara $\\bar{a}$ dan $\\bar{b}$, kita dapat menggunakan rumus:\n",
    "$\\cos(\\theta) = \\frac{\\bar{a} \\cdot \\bar{b}}{\\vert \\bar{a} \\vert \\cdot \\vert \\bar{b} \\vert}$\n",
    "Di mana $\\theta$ adalah besar sudut antara $\\bar{a}$ dan $\\bar{b}$, $\\bar{a} \\cdot \\bar{b}$ adalah hasil perkalian dot dari $\\bar{a}$ dan $\\bar{b}$, dan $\\vert \\bar{a} \\vert$ dan $\\vert \\bar{b} \\vert$ adalah panjang dari $\\bar{a}$ dan $\\bar{b}$. Dengan mengganti nilai-nilai yang telah kita hitung, kita dapatkan:\n",
    "$\\cos(\\theta) = \\frac{\\sqrt{2} \\cdot 3}{\\sqrt{2} \\cdot 3} = 1$\n",
    "Dari sini, kita dapat menentukan bahwa besar sudut antara $\\bar{a}$ dan $\\bar{b}$ adalah 0 derajat."
   ]
  }
 ],
 "metadata": {
  "kernelspec": {
   "display_name": "Python 3",
   "language": "python",
   "name": "python3"
  },
  "language_info": {
   "codemirror_mode": {
    "name": "ipython",
    "version": 3
   },
   "file_extension": ".py",
   "mimetype": "text/x-python",
   "name": "python",
   "nbconvert_exporter": "python",
   "pygments_lexer": "ipython3",
   "version": "3.12.3"
  }
 },
 "nbformat": 4,
 "nbformat_minor": 2
}
